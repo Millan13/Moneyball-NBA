{
 "cells": [
  {
   "cell_type": "code",
   "execution_count": 1,
   "metadata": {},
   "outputs": [],
   "source": [
    "import pandas as pd"
   ]
  },
  {
   "cell_type": "markdown",
   "metadata": {},
   "source": [
    "Importamos todas las temporadas de 2016-17 a 2019-20"
   ]
  },
  {
   "cell_type": "code",
   "execution_count": 2,
   "metadata": {},
   "outputs": [],
   "source": [
    "#temporada 2016-17\n",
    "filename = '/Users/diegovillalizarraga/Maestria Ciencia de Datos ITAM/2do Semestre/Metodos Analiticos/Proyecto Final/NBA-PBP_2016-2017.csv'\n",
    "df_16 = pd.read_csv(filename)"
   ]
  },
  {
   "cell_type": "code",
   "execution_count": 3,
   "metadata": {},
   "outputs": [],
   "source": [
    "#temporada 2017-18\n",
    "filename = '/Users/diegovillalizarraga/Maestria Ciencia de Datos ITAM/2do Semestre/Metodos Analiticos/Proyecto Final/NBA-PBP-2017-2018.csv'\n",
    "df_17 = pd.read_csv(filename)"
   ]
  },
  {
   "cell_type": "code",
   "execution_count": 4,
   "metadata": {},
   "outputs": [],
   "source": [
    "#temporada 2018-19\n",
    "filename = '/Users/diegovillalizarraga/Maestria Ciencia de Datos ITAM/2do Semestre/Metodos Analiticos/Proyecto Final/NBA-PBP-2018-2019.csv'\n",
    "df_18 = pd.read_csv(filename)"
   ]
  },
  {
   "cell_type": "code",
   "execution_count": 5,
   "metadata": {},
   "outputs": [],
   "source": [
    "#temporada 2019-20\n",
    "filename = '/Users/diegovillalizarraga/Maestria Ciencia de Datos ITAM/2do Semestre/Metodos Analiticos/Proyecto Final/NBA-PBP-2019-2020.csv'\n",
    "df_19 = pd.read_csv(filename)"
   ]
  },
  {
   "cell_type": "markdown",
   "metadata": {},
   "source": [
    "Agregaremos una columna que la llamaremos temporada en cada uno de los dataframe."
   ]
  },
  {
   "cell_type": "code",
   "execution_count": 6,
   "metadata": {},
   "outputs": [],
   "source": [
    "pd.set_option('display.max_columns', 500)"
   ]
  },
  {
   "cell_type": "code",
   "execution_count": 7,
   "metadata": {},
   "outputs": [],
   "source": [
    "df_16['Season'] = '2016-2017'\n",
    "df_17['Season'] = '2017-2018'\n",
    "df_18['Season'] = '2018-2019'\n",
    "df_19['Season'] = '2019-2020'"
   ]
  },
  {
   "cell_type": "code",
   "execution_count": 8,
   "metadata": {},
   "outputs": [],
   "source": [
    "data = df_16\n",
    "data = data.append(df_17)\n",
    "data = data.append(df_18)\n",
    "data = data.append(df_19)"
   ]
  },
  {
   "cell_type": "code",
   "execution_count": 9,
   "metadata": {},
   "outputs": [
    {
     "name": "stdout",
     "output_type": "stream",
     "text": [
      "<class 'pandas.core.frame.DataFrame'>\n",
      "Int64Index: 2299301 entries, 0 to 457716\n",
      "Data columns (total 41 columns):\n",
      " #   Column              Dtype  \n",
      "---  ------              -----  \n",
      " 0   URL                 object \n",
      " 1   GameType            object \n",
      " 2   Location            object \n",
      " 3   Date                object \n",
      " 4   Time                object \n",
      " 5   WinningTeam         object \n",
      " 6   Quarter             float64\n",
      " 7   SecLeft             float64\n",
      " 8   AwayTeam            object \n",
      " 9   AwayPlay            object \n",
      " 10  AwayScore           float64\n",
      " 11  HomeTeam            object \n",
      " 12  HomePlay            object \n",
      " 13  HomeScore           float64\n",
      " 14  Shooter             object \n",
      " 15  ShotType            object \n",
      " 16  ShotOutcome         object \n",
      " 17  ShotDist            float64\n",
      " 18  Assister            object \n",
      " 19  Blocker             object \n",
      " 20  FoulType            object \n",
      " 21  Fouler              object \n",
      " 22  Fouled              object \n",
      " 23  Rebounder           object \n",
      " 24  ReboundType         object \n",
      " 25  ViolationPlayer     object \n",
      " 26  ViolationType       object \n",
      " 27  TimeoutTeam         object \n",
      " 28  FreeThrowShooter    object \n",
      " 29  FreeThrowOutcome    object \n",
      " 30  FreeThrowNum        object \n",
      " 31  EnterGame           object \n",
      " 32  LeaveGame           object \n",
      " 33  TurnoverPlayer      object \n",
      " 34  TurnoverType        object \n",
      " 35  TurnoverCause       object \n",
      " 36  TurnoverCauser      object \n",
      " 37  JumpballAwayPlayer  object \n",
      " 38  JumpballHomePlayer  object \n",
      " 39  JumpballPoss        object \n",
      " 40  Season              object \n",
      "dtypes: float64(5), object(36)\n",
      "memory usage: 736.8+ MB\n"
     ]
    }
   ],
   "source": [
    "data.info()"
   ]
  },
  {
   "cell_type": "markdown",
   "metadata": {},
   "source": [
    "Validaremos que el dataframe si tenga todas las temporadas"
   ]
  },
  {
   "cell_type": "code",
   "execution_count": 10,
   "metadata": {},
   "outputs": [
    {
     "data": {
      "text/plain": [
       "array(['2016-2017', '2017-2018', '2018-2019', '2019-2020'], dtype=object)"
      ]
     },
     "execution_count": 10,
     "metadata": {},
     "output_type": "execute_result"
    }
   ],
   "source": [
    "data['Season'].unique()"
   ]
  },
  {
   "cell_type": "code",
   "execution_count": 11,
   "metadata": {},
   "outputs": [
    {
     "data": {
      "text/plain": [
       "array(['regular', 'playoff'], dtype=object)"
      ]
     },
     "execution_count": 11,
     "metadata": {},
     "output_type": "execute_result"
    }
   ],
   "source": [
    "data['GameType'].unique()"
   ]
  },
  {
   "cell_type": "code",
   "execution_count": 12,
   "metadata": {},
   "outputs": [
    {
     "data": {
      "text/plain": [
       "array([nan, 'make', 'miss'], dtype=object)"
      ]
     },
     "execution_count": 12,
     "metadata": {},
     "output_type": "execute_result"
    }
   ],
   "source": [
    "data['ShotOutcome'].unique()"
   ]
  },
  {
   "cell_type": "markdown",
   "metadata": {},
   "source": [
    "Filtraremos por tiros concretados"
   ]
  },
  {
   "cell_type": "code",
   "execution_count": 13,
   "metadata": {},
   "outputs": [],
   "source": [
    "#filtramos por tiros concretados\n",
    "make = data['ShotOutcome'] == 'make'\n",
    "data_make = data[make]"
   ]
  },
  {
   "cell_type": "code",
   "execution_count": 14,
   "metadata": {},
   "outputs": [
    {
     "name": "stdout",
     "output_type": "stream",
     "text": [
      "<class 'pandas.core.frame.DataFrame'>\n",
      "Int64Index: 399823 entries, 1 to 457709\n",
      "Data columns (total 41 columns):\n",
      " #   Column              Non-Null Count   Dtype  \n",
      "---  ------              --------------   -----  \n",
      " 0   URL                 399823 non-null  object \n",
      " 1   GameType            399823 non-null  object \n",
      " 2   Location            399614 non-null  object \n",
      " 3   Date                399823 non-null  object \n",
      " 4   Time                399823 non-null  object \n",
      " 5   WinningTeam         399823 non-null  object \n",
      " 6   Quarter             399823 non-null  float64\n",
      " 7   SecLeft             399823 non-null  float64\n",
      " 8   AwayTeam            399823 non-null  object \n",
      " 9   AwayPlay            197670 non-null  object \n",
      " 10  AwayScore           399823 non-null  float64\n",
      " 11  HomeTeam            399823 non-null  object \n",
      " 12  HomePlay            202153 non-null  object \n",
      " 13  HomeScore           399823 non-null  float64\n",
      " 14  Shooter             399820 non-null  object \n",
      " 15  ShotType            399823 non-null  object \n",
      " 16  ShotOutcome         399823 non-null  object \n",
      " 17  ShotDist            399823 non-null  float64\n",
      " 18  Assister            235766 non-null  object \n",
      " 19  Blocker             0 non-null       object \n",
      " 20  FoulType            0 non-null       object \n",
      " 21  Fouler              0 non-null       object \n",
      " 22  Fouled              0 non-null       object \n",
      " 23  Rebounder           0 non-null       object \n",
      " 24  ReboundType         0 non-null       object \n",
      " 25  ViolationPlayer     0 non-null       object \n",
      " 26  ViolationType       0 non-null       object \n",
      " 27  TimeoutTeam         0 non-null       object \n",
      " 28  FreeThrowShooter    0 non-null       object \n",
      " 29  FreeThrowOutcome    0 non-null       object \n",
      " 30  FreeThrowNum        0 non-null       object \n",
      " 31  EnterGame           0 non-null       object \n",
      " 32  LeaveGame           0 non-null       object \n",
      " 33  TurnoverPlayer      0 non-null       object \n",
      " 34  TurnoverType        0 non-null       object \n",
      " 35  TurnoverCause       0 non-null       object \n",
      " 36  TurnoverCauser      0 non-null       object \n",
      " 37  JumpballAwayPlayer  0 non-null       object \n",
      " 38  JumpballHomePlayer  0 non-null       object \n",
      " 39  JumpballPoss        0 non-null       object \n",
      " 40  Season              399823 non-null  object \n",
      "dtypes: float64(5), object(36)\n",
      "memory usage: 128.1+ MB\n"
     ]
    }
   ],
   "source": [
    "data_make.info()"
   ]
  },
  {
   "cell_type": "markdown",
   "metadata": {},
   "source": [
    "Aqui empezamos a crear la tabla de pares."
   ]
  },
  {
   "cell_type": "code",
   "execution_count": 15,
   "metadata": {},
   "outputs": [],
   "source": [
    "df_pairs = data_make.groupby([\"Shooter\", \"Assister\", \"GameType\", \"Season\"]).size().reset_index().rename(columns={0:'count'})"
   ]
  },
  {
   "cell_type": "code",
   "execution_count": 16,
   "metadata": {},
   "outputs": [
    {
     "data": {
      "text/html": [
       "<div>\n",
       "<style scoped>\n",
       "    .dataframe tbody tr th:only-of-type {\n",
       "        vertical-align: middle;\n",
       "    }\n",
       "\n",
       "    .dataframe tbody tr th {\n",
       "        vertical-align: top;\n",
       "    }\n",
       "\n",
       "    .dataframe thead th {\n",
       "        text-align: right;\n",
       "    }\n",
       "</style>\n",
       "<table border=\"1\" class=\"dataframe\">\n",
       "  <thead>\n",
       "    <tr style=\"text-align: right;\">\n",
       "      <th></th>\n",
       "      <th>Shooter</th>\n",
       "      <th>Assister</th>\n",
       "      <th>GameType</th>\n",
       "      <th>Season</th>\n",
       "      <th>count</th>\n",
       "    </tr>\n",
       "  </thead>\n",
       "  <tbody>\n",
       "    <tr>\n",
       "      <th>0</th>\n",
       "      <td>. Abrines - OKC</td>\n",
       "      <td>A. Roberson - OKC</td>\n",
       "      <td>regular</td>\n",
       "      <td>2016-2017</td>\n",
       "      <td>6</td>\n",
       "    </tr>\n",
       "    <tr>\n",
       "      <th>1</th>\n",
       "      <td>. Abrines - OKC</td>\n",
       "      <td>C. Anthony - OKC</td>\n",
       "      <td>regular</td>\n",
       "      <td>2017-2018</td>\n",
       "      <td>8</td>\n",
       "    </tr>\n",
       "    <tr>\n",
       "      <th>2</th>\n",
       "      <td>. Abrines - OKC</td>\n",
       "      <td>C. Payne - OKC</td>\n",
       "      <td>regular</td>\n",
       "      <td>2016-2017</td>\n",
       "      <td>3</td>\n",
       "    </tr>\n",
       "    <tr>\n",
       "      <th>3</th>\n",
       "      <td>. Abrines - OKC</td>\n",
       "      <td>D. Johnson - OKC</td>\n",
       "      <td>regular</td>\n",
       "      <td>2017-2018</td>\n",
       "      <td>3</td>\n",
       "    </tr>\n",
       "    <tr>\n",
       "      <th>4</th>\n",
       "      <td>. Abrines - OKC</td>\n",
       "      <td>D. McDermott - OKC</td>\n",
       "      <td>playoff</td>\n",
       "      <td>2016-2017</td>\n",
       "      <td>1</td>\n",
       "    </tr>\n",
       "  </tbody>\n",
       "</table>\n",
       "</div>"
      ],
      "text/plain": [
       "           Shooter            Assister GameType     Season  count\n",
       "0  . Abrines - OKC   A. Roberson - OKC  regular  2016-2017      6\n",
       "1  . Abrines - OKC    C. Anthony - OKC  regular  2017-2018      8\n",
       "2  . Abrines - OKC      C. Payne - OKC  regular  2016-2017      3\n",
       "3  . Abrines - OKC    D. Johnson - OKC  regular  2017-2018      3\n",
       "4  . Abrines - OKC  D. McDermott - OKC  playoff  2016-2017      1"
      ]
     },
     "execution_count": 16,
     "metadata": {},
     "output_type": "execute_result"
    }
   ],
   "source": [
    "df_pairs.head()"
   ]
  },
  {
   "cell_type": "code",
   "execution_count": 17,
   "metadata": {},
   "outputs": [],
   "source": [
    "df_pairs[['shooter','sh_team']]= df_pairs.Shooter.str.split(\" - \",expand=True)\n",
    "df_pairs[['assister','as_team']]= df_pairs.Assister.str.split(\" - \",expand=True)"
   ]
  },
  {
   "cell_type": "code",
   "execution_count": 18,
   "metadata": {},
   "outputs": [
    {
     "data": {
      "text/html": [
       "<div>\n",
       "<style scoped>\n",
       "    .dataframe tbody tr th:only-of-type {\n",
       "        vertical-align: middle;\n",
       "    }\n",
       "\n",
       "    .dataframe tbody tr th {\n",
       "        vertical-align: top;\n",
       "    }\n",
       "\n",
       "    .dataframe thead th {\n",
       "        text-align: right;\n",
       "    }\n",
       "</style>\n",
       "<table border=\"1\" class=\"dataframe\">\n",
       "  <thead>\n",
       "    <tr style=\"text-align: right;\">\n",
       "      <th></th>\n",
       "      <th>Shooter</th>\n",
       "      <th>Assister</th>\n",
       "      <th>GameType</th>\n",
       "      <th>Season</th>\n",
       "      <th>count</th>\n",
       "      <th>shooter</th>\n",
       "      <th>sh_team</th>\n",
       "      <th>assister</th>\n",
       "      <th>as_team</th>\n",
       "    </tr>\n",
       "  </thead>\n",
       "  <tbody>\n",
       "    <tr>\n",
       "      <th>0</th>\n",
       "      <td>. Abrines - OKC</td>\n",
       "      <td>A. Roberson - OKC</td>\n",
       "      <td>regular</td>\n",
       "      <td>2016-2017</td>\n",
       "      <td>6</td>\n",
       "      <td>. Abrines</td>\n",
       "      <td>OKC</td>\n",
       "      <td>A. Roberson</td>\n",
       "      <td>OKC</td>\n",
       "    </tr>\n",
       "    <tr>\n",
       "      <th>1</th>\n",
       "      <td>. Abrines - OKC</td>\n",
       "      <td>C. Anthony - OKC</td>\n",
       "      <td>regular</td>\n",
       "      <td>2017-2018</td>\n",
       "      <td>8</td>\n",
       "      <td>. Abrines</td>\n",
       "      <td>OKC</td>\n",
       "      <td>C. Anthony</td>\n",
       "      <td>OKC</td>\n",
       "    </tr>\n",
       "    <tr>\n",
       "      <th>2</th>\n",
       "      <td>. Abrines - OKC</td>\n",
       "      <td>C. Payne - OKC</td>\n",
       "      <td>regular</td>\n",
       "      <td>2016-2017</td>\n",
       "      <td>3</td>\n",
       "      <td>. Abrines</td>\n",
       "      <td>OKC</td>\n",
       "      <td>C. Payne</td>\n",
       "      <td>OKC</td>\n",
       "    </tr>\n",
       "    <tr>\n",
       "      <th>3</th>\n",
       "      <td>. Abrines - OKC</td>\n",
       "      <td>D. Johnson - OKC</td>\n",
       "      <td>regular</td>\n",
       "      <td>2017-2018</td>\n",
       "      <td>3</td>\n",
       "      <td>. Abrines</td>\n",
       "      <td>OKC</td>\n",
       "      <td>D. Johnson</td>\n",
       "      <td>OKC</td>\n",
       "    </tr>\n",
       "    <tr>\n",
       "      <th>4</th>\n",
       "      <td>. Abrines - OKC</td>\n",
       "      <td>D. McDermott - OKC</td>\n",
       "      <td>playoff</td>\n",
       "      <td>2016-2017</td>\n",
       "      <td>1</td>\n",
       "      <td>. Abrines</td>\n",
       "      <td>OKC</td>\n",
       "      <td>D. McDermott</td>\n",
       "      <td>OKC</td>\n",
       "    </tr>\n",
       "  </tbody>\n",
       "</table>\n",
       "</div>"
      ],
      "text/plain": [
       "           Shooter            Assister GameType     Season  count    shooter  \\\n",
       "0  . Abrines - OKC   A. Roberson - OKC  regular  2016-2017      6  . Abrines   \n",
       "1  . Abrines - OKC    C. Anthony - OKC  regular  2017-2018      8  . Abrines   \n",
       "2  . Abrines - OKC      C. Payne - OKC  regular  2016-2017      3  . Abrines   \n",
       "3  . Abrines - OKC    D. Johnson - OKC  regular  2017-2018      3  . Abrines   \n",
       "4  . Abrines - OKC  D. McDermott - OKC  playoff  2016-2017      1  . Abrines   \n",
       "\n",
       "  sh_team      assister as_team  \n",
       "0     OKC   A. Roberson     OKC  \n",
       "1     OKC    C. Anthony     OKC  \n",
       "2     OKC      C. Payne     OKC  \n",
       "3     OKC    D. Johnson     OKC  \n",
       "4     OKC  D. McDermott     OKC  "
      ]
     },
     "execution_count": 18,
     "metadata": {},
     "output_type": "execute_result"
    }
   ],
   "source": [
    "df_pairs.head()"
   ]
  },
  {
   "cell_type": "code",
   "execution_count": 19,
   "metadata": {},
   "outputs": [
    {
     "data": {
      "text/html": [
       "<div>\n",
       "<style scoped>\n",
       "    .dataframe tbody tr th:only-of-type {\n",
       "        vertical-align: middle;\n",
       "    }\n",
       "\n",
       "    .dataframe tbody tr th {\n",
       "        vertical-align: top;\n",
       "    }\n",
       "\n",
       "    .dataframe thead th {\n",
       "        text-align: right;\n",
       "    }\n",
       "</style>\n",
       "<table border=\"1\" class=\"dataframe\">\n",
       "  <thead>\n",
       "    <tr style=\"text-align: right;\">\n",
       "      <th></th>\n",
       "      <th>Shooter</th>\n",
       "      <th>Assister</th>\n",
       "      <th>GameType</th>\n",
       "      <th>Season</th>\n",
       "      <th>count</th>\n",
       "      <th>shooter</th>\n",
       "      <th>sh_team</th>\n",
       "      <th>assister</th>\n",
       "      <th>as_team</th>\n",
       "      <th>team</th>\n",
       "    </tr>\n",
       "  </thead>\n",
       "  <tbody>\n",
       "    <tr>\n",
       "      <th>0</th>\n",
       "      <td>. Abrines - OKC</td>\n",
       "      <td>A. Roberson - OKC</td>\n",
       "      <td>regular</td>\n",
       "      <td>2016-2017</td>\n",
       "      <td>6</td>\n",
       "      <td>. Abrines</td>\n",
       "      <td>OKC</td>\n",
       "      <td>A. Roberson</td>\n",
       "      <td>OKC</td>\n",
       "      <td>OKC</td>\n",
       "    </tr>\n",
       "    <tr>\n",
       "      <th>1</th>\n",
       "      <td>. Abrines - OKC</td>\n",
       "      <td>C. Anthony - OKC</td>\n",
       "      <td>regular</td>\n",
       "      <td>2017-2018</td>\n",
       "      <td>8</td>\n",
       "      <td>. Abrines</td>\n",
       "      <td>OKC</td>\n",
       "      <td>C. Anthony</td>\n",
       "      <td>OKC</td>\n",
       "      <td>OKC</td>\n",
       "    </tr>\n",
       "    <tr>\n",
       "      <th>2</th>\n",
       "      <td>. Abrines - OKC</td>\n",
       "      <td>C. Payne - OKC</td>\n",
       "      <td>regular</td>\n",
       "      <td>2016-2017</td>\n",
       "      <td>3</td>\n",
       "      <td>. Abrines</td>\n",
       "      <td>OKC</td>\n",
       "      <td>C. Payne</td>\n",
       "      <td>OKC</td>\n",
       "      <td>OKC</td>\n",
       "    </tr>\n",
       "    <tr>\n",
       "      <th>3</th>\n",
       "      <td>. Abrines - OKC</td>\n",
       "      <td>D. Johnson - OKC</td>\n",
       "      <td>regular</td>\n",
       "      <td>2017-2018</td>\n",
       "      <td>3</td>\n",
       "      <td>. Abrines</td>\n",
       "      <td>OKC</td>\n",
       "      <td>D. Johnson</td>\n",
       "      <td>OKC</td>\n",
       "      <td>OKC</td>\n",
       "    </tr>\n",
       "    <tr>\n",
       "      <th>4</th>\n",
       "      <td>. Abrines - OKC</td>\n",
       "      <td>D. McDermott - OKC</td>\n",
       "      <td>playoff</td>\n",
       "      <td>2016-2017</td>\n",
       "      <td>1</td>\n",
       "      <td>. Abrines</td>\n",
       "      <td>OKC</td>\n",
       "      <td>D. McDermott</td>\n",
       "      <td>OKC</td>\n",
       "      <td>OKC</td>\n",
       "    </tr>\n",
       "  </tbody>\n",
       "</table>\n",
       "</div>"
      ],
      "text/plain": [
       "           Shooter            Assister GameType     Season  count    shooter  \\\n",
       "0  . Abrines - OKC   A. Roberson - OKC  regular  2016-2017      6  . Abrines   \n",
       "1  . Abrines - OKC    C. Anthony - OKC  regular  2017-2018      8  . Abrines   \n",
       "2  . Abrines - OKC      C. Payne - OKC  regular  2016-2017      3  . Abrines   \n",
       "3  . Abrines - OKC    D. Johnson - OKC  regular  2017-2018      3  . Abrines   \n",
       "4  . Abrines - OKC  D. McDermott - OKC  playoff  2016-2017      1  . Abrines   \n",
       "\n",
       "  sh_team      assister as_team team  \n",
       "0     OKC   A. Roberson     OKC  OKC  \n",
       "1     OKC    C. Anthony     OKC  OKC  \n",
       "2     OKC      C. Payne     OKC  OKC  \n",
       "3     OKC    D. Johnson     OKC  OKC  \n",
       "4     OKC  D. McDermott     OKC  OKC  "
      ]
     },
     "execution_count": 19,
     "metadata": {},
     "output_type": "execute_result"
    }
   ],
   "source": [
    "df_pairs['team'] = df_pairs['sh_team']\n",
    "df_pairs.head()"
   ]
  },
  {
   "cell_type": "code",
   "execution_count": 20,
   "metadata": {},
   "outputs": [],
   "source": [
    "select = ['shooter', 'assister', 'team', 'GameType', 'Season', 'count']\n",
    "df_pairs = df_pairs[select]\n",
    "df_pairs = df_pairs.rename(columns={\"GameType\":\"gametype\", \"Season\":\"season\"})"
   ]
  },
  {
   "cell_type": "markdown",
   "metadata": {},
   "source": [
    "# Tabla de pares para playoffs."
   ]
  },
  {
   "cell_type": "code",
   "execution_count": 21,
   "metadata": {},
   "outputs": [
    {
     "data": {
      "text/html": [
       "<div>\n",
       "<style scoped>\n",
       "    .dataframe tbody tr th:only-of-type {\n",
       "        vertical-align: middle;\n",
       "    }\n",
       "\n",
       "    .dataframe tbody tr th {\n",
       "        vertical-align: top;\n",
       "    }\n",
       "\n",
       "    .dataframe thead th {\n",
       "        text-align: right;\n",
       "    }\n",
       "</style>\n",
       "<table border=\"1\" class=\"dataframe\">\n",
       "  <thead>\n",
       "    <tr style=\"text-align: right;\">\n",
       "      <th></th>\n",
       "      <th>shooter</th>\n",
       "      <th>assister</th>\n",
       "      <th>team</th>\n",
       "      <th>gametype</th>\n",
       "      <th>season</th>\n",
       "      <th>count</th>\n",
       "    </tr>\n",
       "  </thead>\n",
       "  <tbody>\n",
       "    <tr>\n",
       "      <th>0</th>\n",
       "      <td>. Abrines</td>\n",
       "      <td>A. Roberson</td>\n",
       "      <td>OKC</td>\n",
       "      <td>regular</td>\n",
       "      <td>2016-2017</td>\n",
       "      <td>6</td>\n",
       "    </tr>\n",
       "    <tr>\n",
       "      <th>1</th>\n",
       "      <td>. Abrines</td>\n",
       "      <td>C. Anthony</td>\n",
       "      <td>OKC</td>\n",
       "      <td>regular</td>\n",
       "      <td>2017-2018</td>\n",
       "      <td>8</td>\n",
       "    </tr>\n",
       "    <tr>\n",
       "      <th>2</th>\n",
       "      <td>. Abrines</td>\n",
       "      <td>C. Payne</td>\n",
       "      <td>OKC</td>\n",
       "      <td>regular</td>\n",
       "      <td>2016-2017</td>\n",
       "      <td>3</td>\n",
       "    </tr>\n",
       "    <tr>\n",
       "      <th>3</th>\n",
       "      <td>. Abrines</td>\n",
       "      <td>D. Johnson</td>\n",
       "      <td>OKC</td>\n",
       "      <td>regular</td>\n",
       "      <td>2017-2018</td>\n",
       "      <td>3</td>\n",
       "    </tr>\n",
       "    <tr>\n",
       "      <th>4</th>\n",
       "      <td>. Abrines</td>\n",
       "      <td>D. McDermott</td>\n",
       "      <td>OKC</td>\n",
       "      <td>playoff</td>\n",
       "      <td>2016-2017</td>\n",
       "      <td>1</td>\n",
       "    </tr>\n",
       "    <tr>\n",
       "      <th>...</th>\n",
       "      <td>...</td>\n",
       "      <td>...</td>\n",
       "      <td>...</td>\n",
       "      <td>...</td>\n",
       "      <td>...</td>\n",
       "      <td>...</td>\n",
       "    </tr>\n",
       "    <tr>\n",
       "      <th>26088</th>\n",
       "      <td>Z. Williamson</td>\n",
       "      <td>J. Hayes</td>\n",
       "      <td>NOP</td>\n",
       "      <td>regular</td>\n",
       "      <td>2019-2020</td>\n",
       "      <td>1</td>\n",
       "    </tr>\n",
       "    <tr>\n",
       "      <th>26089</th>\n",
       "      <td>Z. Williamson</td>\n",
       "      <td>J. Holiday</td>\n",
       "      <td>NOP</td>\n",
       "      <td>regular</td>\n",
       "      <td>2019-2020</td>\n",
       "      <td>32</td>\n",
       "    </tr>\n",
       "    <tr>\n",
       "      <th>26090</th>\n",
       "      <td>Z. Williamson</td>\n",
       "      <td>J. Redick</td>\n",
       "      <td>NOP</td>\n",
       "      <td>regular</td>\n",
       "      <td>2019-2020</td>\n",
       "      <td>2</td>\n",
       "    </tr>\n",
       "    <tr>\n",
       "      <th>26091</th>\n",
       "      <td>Z. Williamson</td>\n",
       "      <td>L. Ball</td>\n",
       "      <td>NOP</td>\n",
       "      <td>regular</td>\n",
       "      <td>2019-2020</td>\n",
       "      <td>57</td>\n",
       "    </tr>\n",
       "    <tr>\n",
       "      <th>26092</th>\n",
       "      <td>Z. Williamson</td>\n",
       "      <td>N. Melli</td>\n",
       "      <td>NOP</td>\n",
       "      <td>regular</td>\n",
       "      <td>2019-2020</td>\n",
       "      <td>5</td>\n",
       "    </tr>\n",
       "  </tbody>\n",
       "</table>\n",
       "<p>26093 rows × 6 columns</p>\n",
       "</div>"
      ],
      "text/plain": [
       "             shooter      assister team gametype     season  count\n",
       "0          . Abrines   A. Roberson  OKC  regular  2016-2017      6\n",
       "1          . Abrines    C. Anthony  OKC  regular  2017-2018      8\n",
       "2          . Abrines      C. Payne  OKC  regular  2016-2017      3\n",
       "3          . Abrines    D. Johnson  OKC  regular  2017-2018      3\n",
       "4          . Abrines  D. McDermott  OKC  playoff  2016-2017      1\n",
       "...              ...           ...  ...      ...        ...    ...\n",
       "26088  Z. Williamson      J. Hayes  NOP  regular  2019-2020      1\n",
       "26089  Z. Williamson    J. Holiday  NOP  regular  2019-2020     32\n",
       "26090  Z. Williamson     J. Redick  NOP  regular  2019-2020      2\n",
       "26091  Z. Williamson       L. Ball  NOP  regular  2019-2020     57\n",
       "26092  Z. Williamson      N. Melli  NOP  regular  2019-2020      5\n",
       "\n",
       "[26093 rows x 6 columns]"
      ]
     },
     "execution_count": 21,
     "metadata": {},
     "output_type": "execute_result"
    }
   ],
   "source": [
    "df_pairs"
   ]
  },
  {
   "cell_type": "code",
   "execution_count": 22,
   "metadata": {},
   "outputs": [
    {
     "name": "stdout",
     "output_type": "stream",
     "text": [
      "<class 'pandas.core.frame.DataFrame'>\n",
      "RangeIndex: 26093 entries, 0 to 26092\n",
      "Data columns (total 6 columns):\n",
      " #   Column    Non-Null Count  Dtype \n",
      "---  ------    --------------  ----- \n",
      " 0   shooter   26093 non-null  object\n",
      " 1   assister  26093 non-null  object\n",
      " 2   team      26093 non-null  object\n",
      " 3   gametype  26093 non-null  object\n",
      " 4   season    26093 non-null  object\n",
      " 5   count     26093 non-null  int64 \n",
      "dtypes: int64(1), object(5)\n",
      "memory usage: 1.2+ MB\n"
     ]
    }
   ],
   "source": [
    "df_pairs.info()"
   ]
  },
  {
   "cell_type": "markdown",
   "metadata": {},
   "source": [
    "Aqui empezamos a crear la tabla Shot Involvement."
   ]
  },
  {
   "cell_type": "code",
   "execution_count": 23,
   "metadata": {},
   "outputs": [
    {
     "data": {
      "text/html": [
       "<div>\n",
       "<style scoped>\n",
       "    .dataframe tbody tr th:only-of-type {\n",
       "        vertical-align: middle;\n",
       "    }\n",
       "\n",
       "    .dataframe tbody tr th {\n",
       "        vertical-align: top;\n",
       "    }\n",
       "\n",
       "    .dataframe thead th {\n",
       "        text-align: right;\n",
       "    }\n",
       "</style>\n",
       "<table border=\"1\" class=\"dataframe\">\n",
       "  <thead>\n",
       "    <tr style=\"text-align: right;\">\n",
       "      <th></th>\n",
       "      <th>player</th>\n",
       "      <th>team</th>\n",
       "      <th>gametype</th>\n",
       "      <th>season</th>\n",
       "      <th>count</th>\n",
       "    </tr>\n",
       "  </thead>\n",
       "  <tbody>\n",
       "    <tr>\n",
       "      <th>0</th>\n",
       "      <td>. Abrines</td>\n",
       "      <td>OKC</td>\n",
       "      <td>playoff</td>\n",
       "      <td>2016-2017</td>\n",
       "      <td>7</td>\n",
       "    </tr>\n",
       "    <tr>\n",
       "      <th>1</th>\n",
       "      <td>. Abrines</td>\n",
       "      <td>OKC</td>\n",
       "      <td>playoff</td>\n",
       "      <td>2017-2018</td>\n",
       "      <td>5</td>\n",
       "    </tr>\n",
       "    <tr>\n",
       "      <th>2</th>\n",
       "      <td>. Abrines</td>\n",
       "      <td>OKC</td>\n",
       "      <td>regular</td>\n",
       "      <td>2016-2017</td>\n",
       "      <td>115</td>\n",
       "    </tr>\n",
       "    <tr>\n",
       "      <th>3</th>\n",
       "      <td>. Abrines</td>\n",
       "      <td>OKC</td>\n",
       "      <td>regular</td>\n",
       "      <td>2017-2018</td>\n",
       "      <td>103</td>\n",
       "    </tr>\n",
       "    <tr>\n",
       "      <th>4</th>\n",
       "      <td>. Ak</td>\n",
       "      <td>CHI</td>\n",
       "      <td>regular</td>\n",
       "      <td>2017-2018</td>\n",
       "      <td>2</td>\n",
       "    </tr>\n",
       "  </tbody>\n",
       "</table>\n",
       "</div>"
      ],
      "text/plain": [
       "      player team gametype     season  count\n",
       "0  . Abrines  OKC  playoff  2016-2017      7\n",
       "1  . Abrines  OKC  playoff  2017-2018      5\n",
       "2  . Abrines  OKC  regular  2016-2017    115\n",
       "3  . Abrines  OKC  regular  2017-2018    103\n",
       "4       . Ak  CHI  regular  2017-2018      2"
      ]
     },
     "execution_count": 23,
     "metadata": {},
     "output_type": "execute_result"
    }
   ],
   "source": [
    "shooter = df_pairs.groupby(['shooter', 'team', 'gametype', 'season'])['count'].sum().reset_index()\n",
    "shooter = shooter.rename(columns={\"shooter\":\"player\"})\n",
    "shooter.head()"
   ]
  },
  {
   "cell_type": "code",
   "execution_count": 24,
   "metadata": {},
   "outputs": [
    {
     "name": "stdout",
     "output_type": "stream",
     "text": [
      "<class 'pandas.core.frame.DataFrame'>\n",
      "RangeIndex: 2799 entries, 0 to 2798\n",
      "Data columns (total 5 columns):\n",
      " #   Column    Non-Null Count  Dtype \n",
      "---  ------    --------------  ----- \n",
      " 0   player    2799 non-null   object\n",
      " 1   team      2799 non-null   object\n",
      " 2   gametype  2799 non-null   object\n",
      " 3   season    2799 non-null   object\n",
      " 4   count     2799 non-null   int64 \n",
      "dtypes: int64(1), object(4)\n",
      "memory usage: 109.5+ KB\n"
     ]
    }
   ],
   "source": [
    "shooter.info()"
   ]
  },
  {
   "cell_type": "code",
   "execution_count": 25,
   "metadata": {},
   "outputs": [
    {
     "data": {
      "text/html": [
       "<div>\n",
       "<style scoped>\n",
       "    .dataframe tbody tr th:only-of-type {\n",
       "        vertical-align: middle;\n",
       "    }\n",
       "\n",
       "    .dataframe tbody tr th {\n",
       "        vertical-align: top;\n",
       "    }\n",
       "\n",
       "    .dataframe thead th {\n",
       "        text-align: right;\n",
       "    }\n",
       "</style>\n",
       "<table border=\"1\" class=\"dataframe\">\n",
       "  <thead>\n",
       "    <tr style=\"text-align: right;\">\n",
       "      <th></th>\n",
       "      <th>player</th>\n",
       "      <th>team</th>\n",
       "      <th>gametype</th>\n",
       "      <th>season</th>\n",
       "      <th>count</th>\n",
       "    </tr>\n",
       "  </thead>\n",
       "  <tbody>\n",
       "    <tr>\n",
       "      <th>0</th>\n",
       "      <td>. Abrines</td>\n",
       "      <td>OKC</td>\n",
       "      <td>playoff</td>\n",
       "      <td>2016-2017</td>\n",
       "      <td>4</td>\n",
       "    </tr>\n",
       "    <tr>\n",
       "      <th>1</th>\n",
       "      <td>. Abrines</td>\n",
       "      <td>OKC</td>\n",
       "      <td>playoff</td>\n",
       "      <td>2017-2018</td>\n",
       "      <td>2</td>\n",
       "    </tr>\n",
       "    <tr>\n",
       "      <th>2</th>\n",
       "      <td>. Abrines</td>\n",
       "      <td>OKC</td>\n",
       "      <td>regular</td>\n",
       "      <td>2016-2017</td>\n",
       "      <td>40</td>\n",
       "    </tr>\n",
       "    <tr>\n",
       "      <th>3</th>\n",
       "      <td>. Abrines</td>\n",
       "      <td>OKC</td>\n",
       "      <td>regular</td>\n",
       "      <td>2017-2018</td>\n",
       "      <td>29</td>\n",
       "    </tr>\n",
       "    <tr>\n",
       "      <th>4</th>\n",
       "      <td>. Ak</td>\n",
       "      <td>CHI</td>\n",
       "      <td>regular</td>\n",
       "      <td>2017-2018</td>\n",
       "      <td>1</td>\n",
       "    </tr>\n",
       "  </tbody>\n",
       "</table>\n",
       "</div>"
      ],
      "text/plain": [
       "      player team gametype     season  count\n",
       "0  . Abrines  OKC  playoff  2016-2017      4\n",
       "1  . Abrines  OKC  playoff  2017-2018      2\n",
       "2  . Abrines  OKC  regular  2016-2017     40\n",
       "3  . Abrines  OKC  regular  2017-2018     29\n",
       "4       . Ak  CHI  regular  2017-2018      1"
      ]
     },
     "execution_count": 25,
     "metadata": {},
     "output_type": "execute_result"
    }
   ],
   "source": [
    "assister = df_pairs.groupby(['assister', 'team', 'gametype', 'season'])['count'].sum().reset_index()\n",
    "assister = assister.rename(columns={\"assister\":\"player\"})\n",
    "assister.head()"
   ]
  },
  {
   "cell_type": "code",
   "execution_count": 26,
   "metadata": {},
   "outputs": [
    {
     "name": "stdout",
     "output_type": "stream",
     "text": [
      "<class 'pandas.core.frame.DataFrame'>\n",
      "RangeIndex: 2771 entries, 0 to 2770\n",
      "Data columns (total 5 columns):\n",
      " #   Column    Non-Null Count  Dtype \n",
      "---  ------    --------------  ----- \n",
      " 0   player    2771 non-null   object\n",
      " 1   team      2771 non-null   object\n",
      " 2   gametype  2771 non-null   object\n",
      " 3   season    2771 non-null   object\n",
      " 4   count     2771 non-null   int64 \n",
      "dtypes: int64(1), object(4)\n",
      "memory usage: 108.4+ KB\n"
     ]
    }
   ],
   "source": [
    "assister.info()"
   ]
  },
  {
   "cell_type": "code",
   "execution_count": 27,
   "metadata": {},
   "outputs": [
    {
     "data": {
      "text/html": [
       "<div>\n",
       "<style scoped>\n",
       "    .dataframe tbody tr th:only-of-type {\n",
       "        vertical-align: middle;\n",
       "    }\n",
       "\n",
       "    .dataframe tbody tr th {\n",
       "        vertical-align: top;\n",
       "    }\n",
       "\n",
       "    .dataframe thead th {\n",
       "        text-align: right;\n",
       "    }\n",
       "</style>\n",
       "<table border=\"1\" class=\"dataframe\">\n",
       "  <thead>\n",
       "    <tr style=\"text-align: right;\">\n",
       "      <th></th>\n",
       "      <th>player</th>\n",
       "      <th>team</th>\n",
       "      <th>gametype</th>\n",
       "      <th>season</th>\n",
       "      <th>count</th>\n",
       "    </tr>\n",
       "  </thead>\n",
       "  <tbody>\n",
       "    <tr>\n",
       "      <th>0</th>\n",
       "      <td>. Abrines</td>\n",
       "      <td>OKC</td>\n",
       "      <td>playoff</td>\n",
       "      <td>2016-2017</td>\n",
       "      <td>7</td>\n",
       "    </tr>\n",
       "    <tr>\n",
       "      <th>1</th>\n",
       "      <td>. Abrines</td>\n",
       "      <td>OKC</td>\n",
       "      <td>playoff</td>\n",
       "      <td>2017-2018</td>\n",
       "      <td>5</td>\n",
       "    </tr>\n",
       "    <tr>\n",
       "      <th>2</th>\n",
       "      <td>. Abrines</td>\n",
       "      <td>OKC</td>\n",
       "      <td>regular</td>\n",
       "      <td>2016-2017</td>\n",
       "      <td>115</td>\n",
       "    </tr>\n",
       "    <tr>\n",
       "      <th>3</th>\n",
       "      <td>. Abrines</td>\n",
       "      <td>OKC</td>\n",
       "      <td>regular</td>\n",
       "      <td>2017-2018</td>\n",
       "      <td>103</td>\n",
       "    </tr>\n",
       "    <tr>\n",
       "      <th>4</th>\n",
       "      <td>. Ak</td>\n",
       "      <td>CHI</td>\n",
       "      <td>regular</td>\n",
       "      <td>2017-2018</td>\n",
       "      <td>2</td>\n",
       "    </tr>\n",
       "  </tbody>\n",
       "</table>\n",
       "</div>"
      ],
      "text/plain": [
       "      player team gametype     season  count\n",
       "0  . Abrines  OKC  playoff  2016-2017      7\n",
       "1  . Abrines  OKC  playoff  2017-2018      5\n",
       "2  . Abrines  OKC  regular  2016-2017    115\n",
       "3  . Abrines  OKC  regular  2017-2018    103\n",
       "4       . Ak  CHI  regular  2017-2018      2"
      ]
     },
     "execution_count": 27,
     "metadata": {},
     "output_type": "execute_result"
    }
   ],
   "source": [
    "df_involvement = shooter.append(assister)\n",
    "df_involvement.head()"
   ]
  },
  {
   "cell_type": "code",
   "execution_count": 28,
   "metadata": {},
   "outputs": [
    {
     "name": "stdout",
     "output_type": "stream",
     "text": [
      "<class 'pandas.core.frame.DataFrame'>\n",
      "Int64Index: 5570 entries, 0 to 2770\n",
      "Data columns (total 5 columns):\n",
      " #   Column    Non-Null Count  Dtype \n",
      "---  ------    --------------  ----- \n",
      " 0   player    5570 non-null   object\n",
      " 1   team      5570 non-null   object\n",
      " 2   gametype  5570 non-null   object\n",
      " 3   season    5570 non-null   object\n",
      " 4   count     5570 non-null   int64 \n",
      "dtypes: int64(1), object(4)\n",
      "memory usage: 261.1+ KB\n"
     ]
    }
   ],
   "source": [
    "df_involvement.info()"
   ]
  },
  {
   "cell_type": "code",
   "execution_count": 29,
   "metadata": {},
   "outputs": [],
   "source": [
    "df_involvement = df_involvement.groupby(['player', 'team', 'gametype', 'season'])['count'].sum().reset_index()\n",
    "df_involvement = df_involvement.rename(columns={\"count\":\"shoot_involvement\"})"
   ]
  },
  {
   "cell_type": "markdown",
   "metadata": {},
   "source": [
    "# Tabla de Shoot Involvement para playoffs"
   ]
  },
  {
   "cell_type": "code",
   "execution_count": 30,
   "metadata": {},
   "outputs": [
    {
     "data": {
      "text/html": [
       "<div>\n",
       "<style scoped>\n",
       "    .dataframe tbody tr th:only-of-type {\n",
       "        vertical-align: middle;\n",
       "    }\n",
       "\n",
       "    .dataframe tbody tr th {\n",
       "        vertical-align: top;\n",
       "    }\n",
       "\n",
       "    .dataframe thead th {\n",
       "        text-align: right;\n",
       "    }\n",
       "</style>\n",
       "<table border=\"1\" class=\"dataframe\">\n",
       "  <thead>\n",
       "    <tr style=\"text-align: right;\">\n",
       "      <th></th>\n",
       "      <th>player</th>\n",
       "      <th>team</th>\n",
       "      <th>gametype</th>\n",
       "      <th>season</th>\n",
       "      <th>shoot_involvement</th>\n",
       "    </tr>\n",
       "  </thead>\n",
       "  <tbody>\n",
       "    <tr>\n",
       "      <th>0</th>\n",
       "      <td>. Abrines</td>\n",
       "      <td>OKC</td>\n",
       "      <td>playoff</td>\n",
       "      <td>2016-2017</td>\n",
       "      <td>11</td>\n",
       "    </tr>\n",
       "    <tr>\n",
       "      <th>1</th>\n",
       "      <td>. Abrines</td>\n",
       "      <td>OKC</td>\n",
       "      <td>playoff</td>\n",
       "      <td>2017-2018</td>\n",
       "      <td>7</td>\n",
       "    </tr>\n",
       "    <tr>\n",
       "      <th>2</th>\n",
       "      <td>. Abrines</td>\n",
       "      <td>OKC</td>\n",
       "      <td>regular</td>\n",
       "      <td>2016-2017</td>\n",
       "      <td>155</td>\n",
       "    </tr>\n",
       "    <tr>\n",
       "      <th>3</th>\n",
       "      <td>. Abrines</td>\n",
       "      <td>OKC</td>\n",
       "      <td>regular</td>\n",
       "      <td>2017-2018</td>\n",
       "      <td>132</td>\n",
       "    </tr>\n",
       "    <tr>\n",
       "      <th>4</th>\n",
       "      <td>. Ak</td>\n",
       "      <td>CHI</td>\n",
       "      <td>regular</td>\n",
       "      <td>2017-2018</td>\n",
       "      <td>3</td>\n",
       "    </tr>\n",
       "  </tbody>\n",
       "</table>\n",
       "</div>"
      ],
      "text/plain": [
       "      player team gametype     season  shoot_involvement\n",
       "0  . Abrines  OKC  playoff  2016-2017                 11\n",
       "1  . Abrines  OKC  playoff  2017-2018                  7\n",
       "2  . Abrines  OKC  regular  2016-2017                155\n",
       "3  . Abrines  OKC  regular  2017-2018                132\n",
       "4       . Ak  CHI  regular  2017-2018                  3"
      ]
     },
     "execution_count": 30,
     "metadata": {},
     "output_type": "execute_result"
    }
   ],
   "source": [
    "df_involvement.head()"
   ]
  }
 ],
 "metadata": {
  "kernelspec": {
   "display_name": "Python 3",
   "language": "python",
   "name": "python3"
  },
  "language_info": {
   "codemirror_mode": {
    "name": "ipython",
    "version": 3
   },
   "file_extension": ".py",
   "mimetype": "text/x-python",
   "name": "python",
   "nbconvert_exporter": "python",
   "pygments_lexer": "ipython3",
   "version": "3.7.3"
  }
 },
 "nbformat": 4,
 "nbformat_minor": 4
}
