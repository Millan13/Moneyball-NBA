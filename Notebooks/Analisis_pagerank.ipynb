{
 "cells": [
  {
   "cell_type": "markdown",
   "metadata": {},
   "source": [
    "## Análisis para determinar cual es el jugar mas importante de la NBA"
   ]
  },
  {
   "cell_type": "markdown",
   "metadata": {},
   "source": [
    "Utilizaríamos el siguiente análisis como baseline, es un análisis similar que lo aplican a football.\n",
    "[Referencia](https://towardsdatascience.com/who-is-the-premier-leagues-most-important-player-4f184f7b39e4)"
   ]
  },
  {
   "cell_type": "markdown",
   "metadata": {},
   "source": [
    "La librería que recomienda el articulo de referencia para hacer gráficas para pagerank, es NetworkX. [Tutorial](https://networkx.github.io/documentation/stable/tutorial.html)"
   ]
  },
  {
   "cell_type": "markdown",
   "metadata": {},
   "source": [
    "## Librerías"
   ]
  },
  {
   "cell_type": "code",
   "execution_count": 2,
   "metadata": {},
   "outputs": [],
   "source": [
    "import pandas as pd"
   ]
  },
  {
   "cell_type": "markdown",
   "metadata": {},
   "source": [
    "Importamos la información"
   ]
  },
  {
   "cell_type": "markdown",
   "metadata": {},
   "source": [
    "El dataset que utilizaremos esta este análisis lo obtuvimos de [kaggle](https://www.kaggle.com/schmadam97/nba-playbyplay-data-20182019/data) y tiene la siguiente estructura.\n",
    "+ GameType - Regular or Playoff\n",
    "+ Location - Stadium Name\n",
    "+ Date - Date of Game\n",
    "+ Time - Time of Game\n",
    "+ WinningTeam - Team that Won the Game\n",
    "\n",
    "Hay mas variables que su nombre las explica."
   ]
  },
  {
   "cell_type": "markdown",
   "metadata": {},
   "source": [
    "Por ahora solo importaremos la información de 2016 - 2017"
   ]
  },
  {
   "cell_type": "code",
   "execution_count": 3,
   "metadata": {},
   "outputs": [],
   "source": [
    "filename = 'NBA-PBP_2016-2017.csv'\n",
    "data = pd.read_csv(filename)\n",
    "pd.set_option('display.max_columns', 500)"
   ]
  },
  {
   "cell_type": "markdown",
   "metadata": {},
   "source": [
    "Veamos los primeros 5 registros para ver que forma tiene la información."
   ]
  },
  {
   "cell_type": "code",
   "execution_count": 4,
   "metadata": {},
   "outputs": [
    {
     "data": {
      "text/html": [
       "<div>\n",
       "<style scoped>\n",
       "    .dataframe tbody tr th:only-of-type {\n",
       "        vertical-align: middle;\n",
       "    }\n",
       "\n",
       "    .dataframe tbody tr th {\n",
       "        vertical-align: top;\n",
       "    }\n",
       "\n",
       "    .dataframe thead th {\n",
       "        text-align: right;\n",
       "    }\n",
       "</style>\n",
       "<table border=\"1\" class=\"dataframe\">\n",
       "  <thead>\n",
       "    <tr style=\"text-align: right;\">\n",
       "      <th></th>\n",
       "      <th>URL</th>\n",
       "      <th>GameType</th>\n",
       "      <th>Location</th>\n",
       "      <th>Date</th>\n",
       "      <th>Time</th>\n",
       "      <th>WinningTeam</th>\n",
       "      <th>Quarter</th>\n",
       "      <th>SecLeft</th>\n",
       "      <th>AwayTeam</th>\n",
       "      <th>AwayPlay</th>\n",
       "      <th>...</th>\n",
       "      <th>FreeThrowNum</th>\n",
       "      <th>EnterGame</th>\n",
       "      <th>LeaveGame</th>\n",
       "      <th>TurnoverPlayer</th>\n",
       "      <th>TurnoverType</th>\n",
       "      <th>TurnoverCause</th>\n",
       "      <th>TurnoverCauser</th>\n",
       "      <th>JumpballAwayPlayer</th>\n",
       "      <th>JumpballHomePlayer</th>\n",
       "      <th>JumpballPoss</th>\n",
       "    </tr>\n",
       "  </thead>\n",
       "  <tbody>\n",
       "    <tr>\n",
       "      <th>0</th>\n",
       "      <td>/boxscores/201610250CLE.html</td>\n",
       "      <td>regular</td>\n",
       "      <td>Quicken Loans Arena Cleveland Ohio</td>\n",
       "      <td>October 25 2016</td>\n",
       "      <td>7:30 PM</td>\n",
       "      <td>CLE</td>\n",
       "      <td>1</td>\n",
       "      <td>720</td>\n",
       "      <td>NYK</td>\n",
       "      <td>Jump ball: J. Noah vs. T. Thompson (D. Rose ga...</td>\n",
       "      <td>...</td>\n",
       "      <td>NaN</td>\n",
       "      <td>NaN</td>\n",
       "      <td>NaN</td>\n",
       "      <td>NaN</td>\n",
       "      <td>NaN</td>\n",
       "      <td>NaN</td>\n",
       "      <td>NaN</td>\n",
       "      <td>J. Noah - NYK</td>\n",
       "      <td>T. Thompson - CLE</td>\n",
       "      <td>D. Rose</td>\n",
       "    </tr>\n",
       "    <tr>\n",
       "      <th>1</th>\n",
       "      <td>/boxscores/201610250CLE.html</td>\n",
       "      <td>regular</td>\n",
       "      <td>Quicken Loans Arena Cleveland Ohio</td>\n",
       "      <td>October 25 2016</td>\n",
       "      <td>7:30 PM</td>\n",
       "      <td>CLE</td>\n",
       "      <td>1</td>\n",
       "      <td>700</td>\n",
       "      <td>NYK</td>\n",
       "      <td>D. Rose makes 2-pt layup from 1 ft (assist by ...</td>\n",
       "      <td>...</td>\n",
       "      <td>NaN</td>\n",
       "      <td>NaN</td>\n",
       "      <td>NaN</td>\n",
       "      <td>NaN</td>\n",
       "      <td>NaN</td>\n",
       "      <td>NaN</td>\n",
       "      <td>NaN</td>\n",
       "      <td>NaN</td>\n",
       "      <td>NaN</td>\n",
       "      <td>NaN</td>\n",
       "    </tr>\n",
       "    <tr>\n",
       "      <th>2</th>\n",
       "      <td>/boxscores/201610250CLE.html</td>\n",
       "      <td>regular</td>\n",
       "      <td>Quicken Loans Arena Cleveland Ohio</td>\n",
       "      <td>October 25 2016</td>\n",
       "      <td>7:30 PM</td>\n",
       "      <td>CLE</td>\n",
       "      <td>1</td>\n",
       "      <td>686</td>\n",
       "      <td>NYK</td>\n",
       "      <td>NaN</td>\n",
       "      <td>...</td>\n",
       "      <td>NaN</td>\n",
       "      <td>NaN</td>\n",
       "      <td>NaN</td>\n",
       "      <td>NaN</td>\n",
       "      <td>NaN</td>\n",
       "      <td>NaN</td>\n",
       "      <td>NaN</td>\n",
       "      <td>NaN</td>\n",
       "      <td>NaN</td>\n",
       "      <td>NaN</td>\n",
       "    </tr>\n",
       "    <tr>\n",
       "      <th>3</th>\n",
       "      <td>/boxscores/201610250CLE.html</td>\n",
       "      <td>regular</td>\n",
       "      <td>Quicken Loans Arena Cleveland Ohio</td>\n",
       "      <td>October 25 2016</td>\n",
       "      <td>7:30 PM</td>\n",
       "      <td>CLE</td>\n",
       "      <td>1</td>\n",
       "      <td>683</td>\n",
       "      <td>NYK</td>\n",
       "      <td>Defensive rebound by J. Noah</td>\n",
       "      <td>...</td>\n",
       "      <td>NaN</td>\n",
       "      <td>NaN</td>\n",
       "      <td>NaN</td>\n",
       "      <td>NaN</td>\n",
       "      <td>NaN</td>\n",
       "      <td>NaN</td>\n",
       "      <td>NaN</td>\n",
       "      <td>NaN</td>\n",
       "      <td>NaN</td>\n",
       "      <td>NaN</td>\n",
       "    </tr>\n",
       "    <tr>\n",
       "      <th>4</th>\n",
       "      <td>/boxscores/201610250CLE.html</td>\n",
       "      <td>regular</td>\n",
       "      <td>Quicken Loans Arena Cleveland Ohio</td>\n",
       "      <td>October 25 2016</td>\n",
       "      <td>7:30 PM</td>\n",
       "      <td>CLE</td>\n",
       "      <td>1</td>\n",
       "      <td>676</td>\n",
       "      <td>NYK</td>\n",
       "      <td>C. Anthony misses 2-pt jump shot from 20 ft</td>\n",
       "      <td>...</td>\n",
       "      <td>NaN</td>\n",
       "      <td>NaN</td>\n",
       "      <td>NaN</td>\n",
       "      <td>NaN</td>\n",
       "      <td>NaN</td>\n",
       "      <td>NaN</td>\n",
       "      <td>NaN</td>\n",
       "      <td>NaN</td>\n",
       "      <td>NaN</td>\n",
       "      <td>NaN</td>\n",
       "    </tr>\n",
       "  </tbody>\n",
       "</table>\n",
       "<p>5 rows × 40 columns</p>\n",
       "</div>"
      ],
      "text/plain": [
       "                            URL GameType                            Location  \\\n",
       "0  /boxscores/201610250CLE.html  regular  Quicken Loans Arena Cleveland Ohio   \n",
       "1  /boxscores/201610250CLE.html  regular  Quicken Loans Arena Cleveland Ohio   \n",
       "2  /boxscores/201610250CLE.html  regular  Quicken Loans Arena Cleveland Ohio   \n",
       "3  /boxscores/201610250CLE.html  regular  Quicken Loans Arena Cleveland Ohio   \n",
       "4  /boxscores/201610250CLE.html  regular  Quicken Loans Arena Cleveland Ohio   \n",
       "\n",
       "              Date     Time WinningTeam  Quarter  SecLeft AwayTeam  \\\n",
       "0  October 25 2016  7:30 PM         CLE        1      720      NYK   \n",
       "1  October 25 2016  7:30 PM         CLE        1      700      NYK   \n",
       "2  October 25 2016  7:30 PM         CLE        1      686      NYK   \n",
       "3  October 25 2016  7:30 PM         CLE        1      683      NYK   \n",
       "4  October 25 2016  7:30 PM         CLE        1      676      NYK   \n",
       "\n",
       "                                            AwayPlay     ...       \\\n",
       "0  Jump ball: J. Noah vs. T. Thompson (D. Rose ga...     ...        \n",
       "1  D. Rose makes 2-pt layup from 1 ft (assist by ...     ...        \n",
       "2                                                NaN     ...        \n",
       "3                       Defensive rebound by J. Noah     ...        \n",
       "4        C. Anthony misses 2-pt jump shot from 20 ft     ...        \n",
       "\n",
       "   FreeThrowNum EnterGame LeaveGame  TurnoverPlayer TurnoverType  \\\n",
       "0           NaN       NaN       NaN             NaN          NaN   \n",
       "1           NaN       NaN       NaN             NaN          NaN   \n",
       "2           NaN       NaN       NaN             NaN          NaN   \n",
       "3           NaN       NaN       NaN             NaN          NaN   \n",
       "4           NaN       NaN       NaN             NaN          NaN   \n",
       "\n",
       "  TurnoverCause TurnoverCauser  JumpballAwayPlayer JumpballHomePlayer  \\\n",
       "0           NaN            NaN       J. Noah - NYK  T. Thompson - CLE   \n",
       "1           NaN            NaN                 NaN                NaN   \n",
       "2           NaN            NaN                 NaN                NaN   \n",
       "3           NaN            NaN                 NaN                NaN   \n",
       "4           NaN            NaN                 NaN                NaN   \n",
       "\n",
       "  JumpballPoss  \n",
       "0      D. Rose  \n",
       "1          NaN  \n",
       "2          NaN  \n",
       "3          NaN  \n",
       "4          NaN  \n",
       "\n",
       "[5 rows x 40 columns]"
      ]
     },
     "execution_count": 4,
     "metadata": {},
     "output_type": "execute_result"
    }
   ],
   "source": [
    "data.head()"
   ]
  },
  {
   "cell_type": "markdown",
   "metadata": {},
   "source": [
    "Ahora los últimos 5."
   ]
  },
  {
   "cell_type": "code",
   "execution_count": 5,
   "metadata": {},
   "outputs": [
    {
     "data": {
      "text/html": [
       "<div>\n",
       "<style scoped>\n",
       "    .dataframe tbody tr th:only-of-type {\n",
       "        vertical-align: middle;\n",
       "    }\n",
       "\n",
       "    .dataframe tbody tr th {\n",
       "        vertical-align: top;\n",
       "    }\n",
       "\n",
       "    .dataframe thead th {\n",
       "        text-align: right;\n",
       "    }\n",
       "</style>\n",
       "<table border=\"1\" class=\"dataframe\">\n",
       "  <thead>\n",
       "    <tr style=\"text-align: right;\">\n",
       "      <th></th>\n",
       "      <th>URL</th>\n",
       "      <th>GameType</th>\n",
       "      <th>Location</th>\n",
       "      <th>Date</th>\n",
       "      <th>Time</th>\n",
       "      <th>WinningTeam</th>\n",
       "      <th>Quarter</th>\n",
       "      <th>SecLeft</th>\n",
       "      <th>AwayTeam</th>\n",
       "      <th>AwayPlay</th>\n",
       "      <th>...</th>\n",
       "      <th>FreeThrowNum</th>\n",
       "      <th>EnterGame</th>\n",
       "      <th>LeaveGame</th>\n",
       "      <th>TurnoverPlayer</th>\n",
       "      <th>TurnoverType</th>\n",
       "      <th>TurnoverCause</th>\n",
       "      <th>TurnoverCauser</th>\n",
       "      <th>JumpballAwayPlayer</th>\n",
       "      <th>JumpballHomePlayer</th>\n",
       "      <th>JumpballPoss</th>\n",
       "    </tr>\n",
       "  </thead>\n",
       "  <tbody>\n",
       "    <tr>\n",
       "      <th>596640</th>\n",
       "      <td>/boxscores/201704090LAL.html</td>\n",
       "      <td>regular</td>\n",
       "      <td>STAPLES Center Los Angeles California</td>\n",
       "      <td>April 9 2017</td>\n",
       "      <td>9:30 PM</td>\n",
       "      <td>LAL</td>\n",
       "      <td>4</td>\n",
       "      <td>5</td>\n",
       "      <td>MIN</td>\n",
       "      <td>NaN</td>\n",
       "      <td>...</td>\n",
       "      <td>NaN</td>\n",
       "      <td>NaN</td>\n",
       "      <td>NaN</td>\n",
       "      <td>NaN</td>\n",
       "      <td>NaN</td>\n",
       "      <td>NaN</td>\n",
       "      <td>NaN</td>\n",
       "      <td>NaN</td>\n",
       "      <td>NaN</td>\n",
       "      <td>NaN</td>\n",
       "    </tr>\n",
       "    <tr>\n",
       "      <th>596641</th>\n",
       "      <td>/boxscores/201704090LAL.html</td>\n",
       "      <td>regular</td>\n",
       "      <td>STAPLES Center Los Angeles California</td>\n",
       "      <td>April 9 2017</td>\n",
       "      <td>9:30 PM</td>\n",
       "      <td>LAL</td>\n",
       "      <td>4</td>\n",
       "      <td>3</td>\n",
       "      <td>MIN</td>\n",
       "      <td>NaN</td>\n",
       "      <td>...</td>\n",
       "      <td>NaN</td>\n",
       "      <td>NaN</td>\n",
       "      <td>NaN</td>\n",
       "      <td>NaN</td>\n",
       "      <td>NaN</td>\n",
       "      <td>NaN</td>\n",
       "      <td>NaN</td>\n",
       "      <td>NaN</td>\n",
       "      <td>NaN</td>\n",
       "      <td>NaN</td>\n",
       "    </tr>\n",
       "    <tr>\n",
       "      <th>596642</th>\n",
       "      <td>/boxscores/201704090LAL.html</td>\n",
       "      <td>regular</td>\n",
       "      <td>STAPLES Center Los Angeles California</td>\n",
       "      <td>April 9 2017</td>\n",
       "      <td>9:30 PM</td>\n",
       "      <td>LAL</td>\n",
       "      <td>4</td>\n",
       "      <td>2</td>\n",
       "      <td>MIN</td>\n",
       "      <td>NaN</td>\n",
       "      <td>...</td>\n",
       "      <td>NaN</td>\n",
       "      <td>NaN</td>\n",
       "      <td>NaN</td>\n",
       "      <td>NaN</td>\n",
       "      <td>NaN</td>\n",
       "      <td>NaN</td>\n",
       "      <td>NaN</td>\n",
       "      <td>NaN</td>\n",
       "      <td>NaN</td>\n",
       "      <td>NaN</td>\n",
       "    </tr>\n",
       "    <tr>\n",
       "      <th>596643</th>\n",
       "      <td>/boxscores/201704090LAL.html</td>\n",
       "      <td>regular</td>\n",
       "      <td>STAPLES Center Los Angeles California</td>\n",
       "      <td>April 9 2017</td>\n",
       "      <td>9:30 PM</td>\n",
       "      <td>LAL</td>\n",
       "      <td>4</td>\n",
       "      <td>0</td>\n",
       "      <td>MIN</td>\n",
       "      <td>End of 4th quarter</td>\n",
       "      <td>...</td>\n",
       "      <td>NaN</td>\n",
       "      <td>NaN</td>\n",
       "      <td>NaN</td>\n",
       "      <td>NaN</td>\n",
       "      <td>NaN</td>\n",
       "      <td>NaN</td>\n",
       "      <td>NaN</td>\n",
       "      <td>NaN</td>\n",
       "      <td>NaN</td>\n",
       "      <td>NaN</td>\n",
       "    </tr>\n",
       "    <tr>\n",
       "      <th>596644</th>\n",
       "      <td>/boxscores/201704090LAL.html</td>\n",
       "      <td>regular</td>\n",
       "      <td>STAPLES Center Los Angeles California</td>\n",
       "      <td>April 9 2017</td>\n",
       "      <td>9:30 PM</td>\n",
       "      <td>LAL</td>\n",
       "      <td>4</td>\n",
       "      <td>0</td>\n",
       "      <td>MIN</td>\n",
       "      <td>End of Game</td>\n",
       "      <td>...</td>\n",
       "      <td>NaN</td>\n",
       "      <td>NaN</td>\n",
       "      <td>NaN</td>\n",
       "      <td>NaN</td>\n",
       "      <td>NaN</td>\n",
       "      <td>NaN</td>\n",
       "      <td>NaN</td>\n",
       "      <td>NaN</td>\n",
       "      <td>NaN</td>\n",
       "      <td>NaN</td>\n",
       "    </tr>\n",
       "  </tbody>\n",
       "</table>\n",
       "<p>5 rows × 40 columns</p>\n",
       "</div>"
      ],
      "text/plain": [
       "                                 URL GameType  \\\n",
       "596640  /boxscores/201704090LAL.html  regular   \n",
       "596641  /boxscores/201704090LAL.html  regular   \n",
       "596642  /boxscores/201704090LAL.html  regular   \n",
       "596643  /boxscores/201704090LAL.html  regular   \n",
       "596644  /boxscores/201704090LAL.html  regular   \n",
       "\n",
       "                                     Location          Date     Time  \\\n",
       "596640  STAPLES Center Los Angeles California  April 9 2017  9:30 PM   \n",
       "596641  STAPLES Center Los Angeles California  April 9 2017  9:30 PM   \n",
       "596642  STAPLES Center Los Angeles California  April 9 2017  9:30 PM   \n",
       "596643  STAPLES Center Los Angeles California  April 9 2017  9:30 PM   \n",
       "596644  STAPLES Center Los Angeles California  April 9 2017  9:30 PM   \n",
       "\n",
       "       WinningTeam  Quarter  SecLeft AwayTeam            AwayPlay  \\\n",
       "596640         LAL        4        5      MIN                 NaN   \n",
       "596641         LAL        4        3      MIN                 NaN   \n",
       "596642         LAL        4        2      MIN                 NaN   \n",
       "596643         LAL        4        0      MIN  End of 4th quarter   \n",
       "596644         LAL        4        0      MIN         End of Game   \n",
       "\n",
       "           ...       FreeThrowNum EnterGame LeaveGame  TurnoverPlayer  \\\n",
       "596640     ...                NaN       NaN       NaN             NaN   \n",
       "596641     ...                NaN       NaN       NaN             NaN   \n",
       "596642     ...                NaN       NaN       NaN             NaN   \n",
       "596643     ...                NaN       NaN       NaN             NaN   \n",
       "596644     ...                NaN       NaN       NaN             NaN   \n",
       "\n",
       "       TurnoverType TurnoverCause TurnoverCauser  JumpballAwayPlayer  \\\n",
       "596640          NaN           NaN            NaN                 NaN   \n",
       "596641          NaN           NaN            NaN                 NaN   \n",
       "596642          NaN           NaN            NaN                 NaN   \n",
       "596643          NaN           NaN            NaN                 NaN   \n",
       "596644          NaN           NaN            NaN                 NaN   \n",
       "\n",
       "       JumpballHomePlayer JumpballPoss  \n",
       "596640                NaN          NaN  \n",
       "596641                NaN          NaN  \n",
       "596642                NaN          NaN  \n",
       "596643                NaN          NaN  \n",
       "596644                NaN          NaN  \n",
       "\n",
       "[5 rows x 40 columns]"
      ]
     },
     "execution_count": 5,
     "metadata": {},
     "output_type": "execute_result"
    }
   ],
   "source": [
    "data.tail()"
   ]
  },
  {
   "cell_type": "markdown",
   "metadata": {},
   "source": [
    "Ahora veamos cuantas entradas tiene el dataset a total y para cada una de las columnas."
   ]
  },
  {
   "cell_type": "code",
   "execution_count": 6,
   "metadata": {},
   "outputs": [
    {
     "name": "stdout",
     "output_type": "stream",
     "text": [
      "<class 'pandas.core.frame.DataFrame'>\n",
      "RangeIndex: 596645 entries, 0 to 596644\n",
      "Data columns (total 40 columns):\n",
      "URL                   596645 non-null object\n",
      "GameType              596645 non-null object\n",
      "Location              596645 non-null object\n",
      "Date                  596645 non-null object\n",
      "Time                  596645 non-null object\n",
      "WinningTeam           596645 non-null object\n",
      "Quarter               596645 non-null int64\n",
      "SecLeft               596645 non-null int64\n",
      "AwayTeam              596645 non-null object\n",
      "AwayPlay              302493 non-null object\n",
      "AwayScore             596645 non-null int64\n",
      "HomeTeam              596645 non-null object\n",
      "HomePlay              294152 non-null object\n",
      "HomeScore             596645 non-null int64\n",
      "Shooter               223288 non-null object\n",
      "ShotType              223288 non-null object\n",
      "ShotOutcome           223288 non-null object\n",
      "ShotDist              223288 non-null float64\n",
      "Assister              59138 non-null object\n",
      "Blocker               12485 non-null object\n",
      "FoulType              53930 non-null object\n",
      "Fouler                53930 non-null object\n",
      "Fouled                50912 non-null object\n",
      "Rebounder             134962 non-null object\n",
      "ReboundType           134962 non-null object\n",
      "ViolationPlayer       2294 non-null object\n",
      "ViolationType         2294 non-null object\n",
      "TimeoutTeam           17765 non-null object\n",
      "FreeThrowShooter      60620 non-null object\n",
      "FreeThrowOutcome      60620 non-null object\n",
      "FreeThrowNum          60620 non-null object\n",
      "EnterGame             58529 non-null object\n",
      "LeaveGame             58529 non-null object\n",
      "TurnoverPlayer        36456 non-null object\n",
      "TurnoverType          36456 non-null object\n",
      "TurnoverCause         20171 non-null object\n",
      "TurnoverCauser        20171 non-null object\n",
      "JumpballAwayPlayer    2026 non-null object\n",
      "JumpballHomePlayer    2026 non-null object\n",
      "JumpballPoss          2026 non-null object\n",
      "dtypes: float64(1), int64(4), object(35)\n",
      "memory usage: 182.1+ MB\n"
     ]
    }
   ],
   "source": [
    "data.info()"
   ]
  },
  {
   "cell_type": "markdown",
   "metadata": {},
   "source": [
    "Veamos la primera observación del dataset completa."
   ]
  },
  {
   "cell_type": "code",
   "execution_count": 8,
   "metadata": {},
   "outputs": [
    {
     "data": {
      "text/plain": [
       "URL                                        /boxscores/201610250CLE.html\n",
       "GameType                                                        regular\n",
       "Location                             Quicken Loans Arena Cleveland Ohio\n",
       "Date                                                    October 25 2016\n",
       "Time                                                            7:30 PM\n",
       "WinningTeam                                                         CLE\n",
       "Quarter                                                               1\n",
       "SecLeft                                                             720\n",
       "AwayTeam                                                            NYK\n",
       "AwayPlay              Jump ball: J. Noah vs. T. Thompson (D. Rose ga...\n",
       "AwayScore                                                             0\n",
       "HomeTeam                                                            CLE\n",
       "HomePlay                                                            NaN\n",
       "HomeScore                                                             0\n",
       "Shooter                                                             NaN\n",
       "ShotType                                                            NaN\n",
       "ShotOutcome                                                         NaN\n",
       "ShotDist                                                            NaN\n",
       "Assister                                                            NaN\n",
       "Blocker                                                             NaN\n",
       "FoulType                                                            NaN\n",
       "Fouler                                                              NaN\n",
       "Fouled                                                              NaN\n",
       "Rebounder                                                           NaN\n",
       "ReboundType                                                         NaN\n",
       "ViolationPlayer                                                     NaN\n",
       "ViolationType                                                       NaN\n",
       "TimeoutTeam                                                         NaN\n",
       "FreeThrowShooter                                                    NaN\n",
       "FreeThrowOutcome                                                    NaN\n",
       "FreeThrowNum                                                        NaN\n",
       "EnterGame                                                           NaN\n",
       "LeaveGame                                                           NaN\n",
       "TurnoverPlayer                                                      NaN\n",
       "TurnoverType                                                        NaN\n",
       "TurnoverCause                                                       NaN\n",
       "TurnoverCauser                                                      NaN\n",
       "JumpballAwayPlayer                                        J. Noah - NYK\n",
       "JumpballHomePlayer                                    T. Thompson - CLE\n",
       "JumpballPoss                                                    D. Rose\n",
       "Name: 0, dtype: object"
      ]
     },
     "execution_count": 8,
     "metadata": {},
     "output_type": "execute_result"
    }
   ],
   "source": [
    "#data.columns.get_loc('Date')    --   Codigo util para obtener el indice de la columna dando el nombre\n",
    "data.iloc[0]"
   ]
  },
  {
   "cell_type": "markdown",
   "metadata": {},
   "source": [
    "Veamos alguna observación (jugada) en la que se obtuvieron puntos para ver como lo reporta el dataset. "
   ]
  },
  {
   "cell_type": "code",
   "execution_count": 9,
   "metadata": {},
   "outputs": [
    {
     "data": {
      "text/plain": [
       "array([nan, 'make', 'miss'], dtype=object)"
      ]
     },
     "execution_count": 9,
     "metadata": {},
     "output_type": "execute_result"
    }
   ],
   "source": [
    "pd.unique(data['ShotOutcome'])"
   ]
  },
  {
   "cell_type": "code",
   "execution_count": 10,
   "metadata": {},
   "outputs": [
    {
     "data": {
      "text/plain": [
       "URL                                        /boxscores/201610250CLE.html\n",
       "GameType                                                        regular\n",
       "Location                             Quicken Loans Arena Cleveland Ohio\n",
       "Date                                                    October 25 2016\n",
       "Time                                                            7:30 PM\n",
       "WinningTeam                                                         CLE\n",
       "Quarter                                                               1\n",
       "SecLeft                                                             700\n",
       "AwayTeam                                                            NYK\n",
       "AwayPlay              D. Rose makes 2-pt layup from 1 ft (assist by ...\n",
       "AwayScore                                                             2\n",
       "HomeTeam                                                            CLE\n",
       "HomePlay                                                            NaN\n",
       "HomeScore                                                             0\n",
       "Shooter                                                   D. Rose - NYK\n",
       "ShotType                                                     2-pt layup\n",
       "ShotOutcome                                                        make\n",
       "ShotDist                                                              1\n",
       "Assister                                                  J. Noah - NYK\n",
       "Blocker                                                             NaN\n",
       "FoulType                                                            NaN\n",
       "Fouler                                                              NaN\n",
       "Fouled                                                              NaN\n",
       "Rebounder                                                           NaN\n",
       "ReboundType                                                         NaN\n",
       "ViolationPlayer                                                     NaN\n",
       "ViolationType                                                       NaN\n",
       "TimeoutTeam                                                         NaN\n",
       "FreeThrowShooter                                                    NaN\n",
       "FreeThrowOutcome                                                    NaN\n",
       "FreeThrowNum                                                        NaN\n",
       "EnterGame                                                           NaN\n",
       "LeaveGame                                                           NaN\n",
       "TurnoverPlayer                                                      NaN\n",
       "TurnoverType                                                        NaN\n",
       "TurnoverCause                                                       NaN\n",
       "TurnoverCauser                                                      NaN\n",
       "JumpballAwayPlayer                                                  NaN\n",
       "JumpballHomePlayer                                                  NaN\n",
       "JumpballPoss                                                        NaN\n",
       "Name: 1, dtype: object"
      ]
     },
     "execution_count": 10,
     "metadata": {},
     "output_type": "execute_result"
    }
   ],
   "source": [
    "shotoutcome_make = data[data['ShotOutcome'] == 'make']\n",
    "shotoutcome_make.iloc[0]"
   ]
  },
  {
   "cell_type": "code",
   "execution_count": 11,
   "metadata": {},
   "outputs": [
    {
     "data": {
      "text/plain": [
       "URL                                  /boxscores/201610250CLE.html\n",
       "GameType                                                  regular\n",
       "Location                       Quicken Loans Arena Cleveland Ohio\n",
       "Date                                              October 25 2016\n",
       "Time                                                      7:30 PM\n",
       "WinningTeam                                                   CLE\n",
       "Quarter                                                         1\n",
       "SecLeft                                                       676\n",
       "AwayTeam                                                      NYK\n",
       "AwayPlay              C. Anthony misses 2-pt jump shot from 20 ft\n",
       "AwayScore                                                       2\n",
       "HomeTeam                                                      CLE\n",
       "HomePlay                                                      NaN\n",
       "HomeScore                                                       0\n",
       "Shooter                                          C. Anthony - NYK\n",
       "ShotType                                           2-pt jump shot\n",
       "ShotOutcome                                                  miss\n",
       "ShotDist                                                       20\n",
       "Assister                                                      NaN\n",
       "Blocker                                                       NaN\n",
       "FoulType                                                      NaN\n",
       "Fouler                                                        NaN\n",
       "Fouled                                                        NaN\n",
       "Rebounder                                                     NaN\n",
       "ReboundType                                                   NaN\n",
       "ViolationPlayer                                               NaN\n",
       "ViolationType                                                 NaN\n",
       "TimeoutTeam                                                   NaN\n",
       "FreeThrowShooter                                              NaN\n",
       "FreeThrowOutcome                                              NaN\n",
       "FreeThrowNum                                                  NaN\n",
       "EnterGame                                                     NaN\n",
       "LeaveGame                                                     NaN\n",
       "TurnoverPlayer                                                NaN\n",
       "TurnoverType                                                  NaN\n",
       "TurnoverCause                                                 NaN\n",
       "TurnoverCauser                                                NaN\n",
       "JumpballAwayPlayer                                            NaN\n",
       "JumpballHomePlayer                                            NaN\n",
       "JumpballPoss                                                  NaN\n",
       "Name: 4, dtype: object"
      ]
     },
     "execution_count": 11,
     "metadata": {},
     "output_type": "execute_result"
    }
   ],
   "source": [
    "shotoutcome_miss = data[data['ShotOutcome'] == 'miss']\n",
    "shotoutcome_miss.iloc[1]"
   ]
  },
  {
   "cell_type": "markdown",
   "metadata": {},
   "source": [
    "Veamos los valores únicos de las columnas."
   ]
  },
  {
   "cell_type": "code",
   "execution_count": 12,
   "metadata": {},
   "outputs": [
    {
     "data": {
      "text/plain": [
       "array([1, 2, 3, 4, 5, 6, 7, 8])"
      ]
     },
     "execution_count": 12,
     "metadata": {},
     "output_type": "execute_result"
    }
   ],
   "source": [
    "pd.unique(data['Quarter'])"
   ]
  },
  {
   "cell_type": "code",
   "execution_count": 13,
   "metadata": {},
   "outputs": [
    {
     "data": {
      "text/plain": [
       "array([nan, '2-pt layup', '2-pt hook shot', '2-pt jump shot',\n",
       "       '3-pt jump shot', '2-pt dunk', '3-pt hook shot', '3-pt layup'],\n",
       "      dtype=object)"
      ]
     },
     "execution_count": 13,
     "metadata": {},
     "output_type": "execute_result"
    }
   ],
   "source": [
    "pd.unique(data['ShotType'])"
   ]
  },
  {
   "cell_type": "code",
   "execution_count": 14,
   "metadata": {},
   "outputs": [
    {
     "data": {
      "text/plain": [
       "array([nan, 'K. Porziis - NYK', 'D. Rose - NYK', \"K. O'Quinn - NYK\",\n",
       "       'C. Frye - CLE', 'I. Shumpert - CLE', 'C. Lee - NYK',\n",
       "       'L. James - CLE', 'D. Liggins - CLE', 'C. Andersen - CLE',\n",
       "       'R. Hood - UTA', 'G. Hill - UTA', 'E. Davis - POR',\n",
       "       'J. Withey - UTA', 'R. Gobert - UTA', 'E. Turner - POR',\n",
       "       'N. Vonleh - POR', 'K. Durant - GSW', 'D. Dedmon - SAS',\n",
       "       'J. Simmons - SAS', 'D. West - GSW', 'D. Green - GSW',\n",
       "       'I. Clark - GSW', 'P. McCaw - GSW', 'A. Bogut - DAL',\n",
       "       'J. Anderson - DAL', 'M. Turner - IND', 'J. Barea - DAL',\n",
       "       'D. Powell - DAL', 'S. Curry - DAL', 'A. Jefferson - IND',\n",
       "       'D. Williams - DAL', 'D. Nowitzki - DAL', 'L. Allen - IND',\n",
       "       'H. Whiteside - MIA', 'E. Payton - ORL', 'J. Winslow - MIA',\n",
       "       'A. Gordon - ORL', 'S. Ibaka - ORL', 'W. Reed - MIA',\n",
       "       'A. Horford - BOS', 'J. Crowder - BOS', 'J. Brown - BOS',\n",
       "       'T. Zeller - BOS', 'J. Lin - BRK', 'J. Harris - BRK',\n",
       "       'D. Gallinari - DEN', 'A. Davis - NOP', 'J. Nurki - DEN',\n",
       "       'E. Moore - NOP', 'K. Faried - DEN', 'R. Hibbert - CHO',\n",
       "       'M. Plumlee - MIL', 'M. Beasley - MIL', 'G. Monroe - MIL',\n",
       "       'C. Zeller - CHO', 'S. Hawes - CHO', 'M. Williams - CHO',\n",
       "       'M. Kidd-Gilchrist - CHO', 'G. Antetokounmpo - MIL',\n",
       "       'A. Wiggins - MIN', 'N. Bjelica - MIN', 'D. Davis - MEM',\n",
       "       'W. Baldwin - MEM', 'C. Aldrich - MIN', 'K. Towns - MIN',\n",
       "       'M. Conley - MEM', 'M. Gasol - MEM', 'G. Dieng - MIN',\n",
       "       'V. Carter - MEM', 'J. Green - MEM', 'R. Covington - PHI',\n",
       "       'J. Embiid - PHI', 'V. Oladipo - OKC', 'R. Holmes - PHI',\n",
       "       'J. Grant - PHI', 'J. Okafor - PHI', 'E. Kanter - OKC',\n",
       "       'H. Thompson - PHI', 'A. Roberson - OKC', 'J. Dudley - PHO',\n",
       "       'R. Gay - SAC', 'M. Chriss - PHO', 'T. Lawson - SAC',\n",
       "       'T. Ulis - PHO', 'M. Huertas - LAL', 'N. Young - LAL',\n",
       "       'C. Capela - HOU', 'L. Nance - LAL', 'J. Randle - LAL',\n",
       "       'J. Wall - WAS', 'M. Gortat - WAS', 'A. Nicholson - WAS',\n",
       "       'M. Muscala - ATL', 'P. Millsap - ATL', 'M. Morris - WAS',\n",
       "       'D. Howard - ATL', 'A. Bradley - BOS', 'G. Green - BOS',\n",
       "       'A. Johnson - BOS', 'D. Wade - CHI', '. Ak - NOP',\n",
       "       'J. Holiday - NOP', 'T. Jones - NOP', 'T. Frazier - NOP',\n",
       "       'A. Crabbe - POR', 'R. Lopez - CHI', 'J. Pltl - TOR',\n",
       "       'B. Portis - CHI', 'M. Carter-Williams - CHI', 'J. Grant - CHI',\n",
       "       'R. Hollis-Jefferson - BRK', 'A. Len - PHO', 'S. Dinwiddie - BRK',\n",
       "       'K. McDaniels - BRK', 'B. Lopez - BRK', 'I. Whitehead - BRK',\n",
       "       'N. Noel - PHI', 'L. Mbah a Moute - LAC', 'D. ari - PHI',\n",
       "       'D. Booker - PHO', 'T. Gibson - OKC', 'A. Williams - PHO',\n",
       "       'S. Adams - OKC', 'J. Grant - OKC', 'E. Bledsoe - PHO',\n",
       "       'L. Barbosa - PHO', 'J. Noah - NYK', 'P. Tucker - PHO',\n",
       "       'T. Chandler - PHO', 'D. Jordan - LAC', 'M. Speights - LAC',\n",
       "       'C. McCullough - BRK', 'B. Bass - LAC', 'D. Stone - LAC',\n",
       "       'T. Graham - CHO', 'M. Ellis - IND', 'K. Sraphin - IND',\n",
       "       'J. Hamilton - BRK', 'W. Barton - DEN', 'N. Joki - DEN',\n",
       "       'K. Thompson - GSW', 'J. Johnson - MIA', 'S. Livingston - GSW',\n",
       "       'S. Curry - GSW', 'R. Rondo - CHI', 'N. Miroti - CHI',\n",
       "       'T. Gibson - CHI', 'D. Valentine - CHI', 'S. Mejri - DAL',\n",
       "       'D. Finney-Smith - DAL', 'D. Cunningham - NOP', 'M. Harrell - HOU',\n",
       "       'I. Zubac - LAL', 'J. Clarkson - LAL', 'B. Ingram - LAL',\n",
       "       'G. Henderson - PHI', 'D. Nwaba - LAL', 'D. Williams - CLE',\n",
       "       'T. Thompson - CLE', 'J. Henson - MIL', 'M. Teletovi - MIL',\n",
       "       'J. Martin - MEM', 'J. Jones - CLE', 'T. Allen - MEM',\n",
       "       'J. Ennis - MEM', 'D. Green - SAS', 'D. Bertns - SAS',\n",
       "       'A. Harrison - MEM', 'I. Mahinmi - WAS', 'K. Oubre - WAS',\n",
       "       'J. Smith - WAS', 'S. Ibaka - TOR', 'B. Beal - WAS',\n",
       "       'P. Tucker - TOR', 'G. Hayward - UTA', 'P. George - IND',\n",
       "       'R. Neto - UTA', 'J. Teague - IND', 'G. Robinson - IND',\n",
       "       'J. Ingles - UTA', 'G. Payton - MIL', 'M. Smart - BOS',\n",
       "       'I. Thomas - BOS', 'M. Brogdon - MIL', 'T. Maker - MIL',\n",
       "       'R. Vaughn - MIL', 'A. Payne - MIN', 'T. Sefolosha - ATL',\n",
       "       'D. Schrder - ATL', 'T. Daniels - MEM', 'L. Deng - LAL',\n",
       "       'K. Bazemore - ATL', 'N. Hilrio - HOU', 'J. Harden - HOU',\n",
       "       'E. Gordon - HOU', 'D. McDermott - OKC', 'K. Koufos - SAC',\n",
       "       'T. Mozgov - LAL', 'M. Barnes - SAC', 'K. Olynyk - BOS',\n",
       "       'J. Jerebko - BOS', 'T. Rozier - BOS', 'J. McAdoo - GSW',\n",
       "       'A. Iguodala - GSW', 'K. Dunn - MIN', 'D. Motiejnas - NOP',\n",
       "       'P. Mills - SAS', 'J. McGee - GSW', 'B. Forbes - SAS',\n",
       "       'D. Cousins - SAC', 'P. Beverley - HOU', 'S. Dekker - HOU',\n",
       "       'R. Christmas - IND', 'T. Booker - BRK', 'E. lyasova - PHI',\n",
       "       'N. Stauskas - PHI', 'J. Lamb - CHO', 'W. Hernangmez - NYK',\n",
       "       'G. Temple - SAC', 'T. Warren - PHO', 'J. Nurki - POR',\n",
       "       'C. McCollum - POR', 'T. Waller-Prince - ATL', 'E. lyasova - ATL',\n",
       "       'M. Harkless - POR', 'C. Felcio - CHI', 'R. Westbrook - OKC',\n",
       "       'D. Sabonis - OKC', 'E. lyasova - OKC', 'T. Hardaway - ATL',\n",
       "       'K. Anderson - SAS', 'M. Ginbili - SAS', 'P. Gasol - SAS',\n",
       "       'D. Lee - SAS', 'Z. Pachulia - GSW', 'N. Batum - CHO',\n",
       "       'M. Dunleavy - CLE', 'N. Vuevi - ORL', 'K. Looney - GSW',\n",
       "       'H. Barnes - DAL', 'K. Lowry - TOR', 'L. Nogueira - TOR',\n",
       "       'N. Powell - TOR', 'J. Valaninas - TOR', 'D. Murray - SAS',\n",
       "       'T. Ross - TOR', 'K. Leonard - SAS', 'L. Aldridge - SAS',\n",
       "       'N. Laprovttola - SAS', 'T. Johnson - MIA', 'W. Ellington - MIA',\n",
       "       'T. Black - LAL', 'D. Williams - MIA', 'N. Noel - DAL',\n",
       "       'Q. Acy - BRK', 'A. Brooks - IND', 'D. Arthur - DEN',\n",
       "       'K. Love - CLE', 'K. Irving - CLE', 'G. Harris - DEN',\n",
       "       'D. Favors - UTA', 'T. Lyles - UTA', 'D. Jones - PHO',\n",
       "       'D. Lillard - POR', 'M. Plumlee - POR', 'T. Harris - DET',\n",
       "       'W. Chandler - DEN', 'B. Biyombo - ORL', 'T. Ross - ORL',\n",
       "       'J. Smith - CLE', 'K. Korver - CLE', 'M. Plumlee - DEN',\n",
       "       'A. Ajina - NOP', 'C. Diallo - NOP', 'R. Hibbert - DEN',\n",
       "       'D. DeRozan - TOR', 'W. Matthews - DAL', 'D. Wright - TOR',\n",
       "       'M. Dunleavy - ATL', 'D. Harris - DAL', 'Z. Randolph - MEM',\n",
       "       'C. Miles - IND', 'T. Douglas - MEM', 'T. Young - IND',\n",
       "       'J. Butler - CHI', 'K. Walker - CHO', 'P. Siakam - TOR',\n",
       "       'J. Crawford - LAC', 'A. Rivers - LAC', 'S. Hill - NOP',\n",
       "       'B. Diaw - UTA', 'J. Crawford - NOP', 'M. Belinelli - CHO',\n",
       "       'J. Sullinger - TOR', 'F. Kaminsky - CHO', 'D. Carroll - TOR',\n",
       "       'J. Redick - LAC', 'W. Johnson - LAC', 'R. Felton - LAC',\n",
       "       'B. Griffin - LAC', 'B. Hield - NOP', '. Abrines - OKC',\n",
       "       'L. Williams - HOU', 'T. Ariza - HOU', 'S. Long - PHI',\n",
       "       'J. Anderson - PHI', 'K. Felder - CLE', 'W. Cauley-Stein - SAC',\n",
       "       'A. Tolliver - SAC', 'P. Zipser - CHI', 'R. Rubio - MIN',\n",
       "       'A. Aminu - POR', 'B. Rush - MIN', 'A. Afflalo - SAC',\n",
       "       'S. Labissire - SAC', 'A. Varejo - GSW', 'T. Robinson - LAL',\n",
       "       'C. Payne - OKC', 'R. Jefferson - CLE', 'P. Patterson - TOR',\n",
       "       'C. Watson - ORL', 'B. Wright - MEM', 'J. Richardson - MIA',\n",
       "       'R. McGruder - MIA', 'J. Johnson - UTA', 'C. Joseph - TOR',\n",
       "       'J. Leuer - DET', 'S. Johnson - DET', 'J. Green - ORL',\n",
       "       'C. Anthony - NYK', 'R. Baker - NYK', 'D. Bender - PHO',\n",
       "       'G. Dragi - MIA', 'D. Cousins - NOP', 'J. Bolomboy - UTA',\n",
       "       'O. Porter - WAS', 'M. Thornton - WAS', 'A. Goodwin - BRK',\n",
       "       'M. Kuzminskas - NYK', 'M. Barnes - GSW', 'D. Waiters - MIA',\n",
       "       'J. McRoberts - MIA', 'C. Brewer - HOU', 'J. Parker - MIL',\n",
       "       'T. Snell - MIL', 'J. Mickey - BOS', 'J. Young - BOS',\n",
       "       'L. Galloway - NOP', 'J. Holiday - NYK', 'S. Vujai - NYK',\n",
       "       'D. Exum - UTA', 'K. Humphries - ATL', 'Y. Ferrell - DAL',\n",
       "       'A. Hammons - DAL', 'J. Uthoff - DAL', 'T. Williams - MEM',\n",
       "       'A. Drummond - DET', 'L. Babbitt - MIA', 'J. Terry - MIL',\n",
       "       'K. Middleton - MIL', 'C. Paul - LAC', 'J. Murray - DEN',\n",
       "       'J. Hernangmez - DEN', 'A. Gee - DEN', 'J. Nelson - DEN',\n",
       "       'A. Baynes - DET', 'J. Lauvergne - OKC', 'W. Selden - MEM',\n",
       "       'L. Thomas - NYK', 'B. Johnson - LAC', 'P. Pierce - LAC',\n",
       "       'C. Brewer - LAL', 'B. McLemore - SAC', 'E. Mudiay - DEN',\n",
       "       'M. Leonard - POR', 'I. Smith - DET', 'N. Cole - OKC',\n",
       "       'L. Scola - BRK', 'Y. Ferrell - BRK', 'M. Ndour - NYK',\n",
       "       'J. Layman - POR', 'G. Papagiannis - SAC', 'S. Hawes - MIL',\n",
       "       'R. Price - PHO', 'K. Caldwell-Pope - DET', 'R. Anderson - HOU',\n",
       "       'C. Onuaku - HOU', 'H. Ellenson - DET', 'B. Hield - SAC',\n",
       "       'T. Parker - SAS', 'K. McDaniels - HOU', 'K. Korver - ATL',\n",
       "       'D. Russell - LAL', 'E. Tavares - CLE', 'B. Caboclo - TOR',\n",
       "       'B. Marjanovi - DET', 'M. Morris - DET', 'O. White - MIA',\n",
       "       'J. Anthony - SAS', 'M. Hezonja - ORL', 'N. Brussino - DAL',\n",
       "       'R. Jackson - DET', 'T. Evans - NOP', 'J. Meeks - ORL',\n",
       "       'J. McRae - CLE', 'S. Zimmerman - ORL', 'T. Luwawu-Cabarrot - PHI',\n",
       "       'D. McDermott - CHI', 'M. Plumlee - CHO', 'B. Bogdanovi - WAS',\n",
       "       'T. McConnell - PHI', 'T. Jones - MIN', 'D. Jones - GSW',\n",
       "       'E. Fournier - ORL', 'B. Knight - PHO', 'O. Casspi - SAC',\n",
       "       'S. Muhammad - MIN', 'I. Taylor - HOU', 'M. Richardson - SAC',\n",
       "       'D. Collison - SAC', 'T. Evans - SAC', 'J. Caldern - LAL',\n",
       "       'S. Rodrguez - PHI', 'T. Burke - WAS', 'L. Williams - LAL',\n",
       "       'T. Satoransk - WAS', 'C. LeVert - BRK', 'A. Burks - UTA',\n",
       "       'A. Bennett - BRK', 'K. Singler - OKC', 'P. Connaughton - POR',\n",
       "       'A. Brown - NOP', 'R. Kelly - ATL', 'L. Sanders - CLE',\n",
       "       'S. Mack - UTA', 'M. Dellavedova - MIL', 'T. Quarterman - POR',\n",
       "       'A. Goodwin - NOP', 'L. Galloway - SAC', 'R. Foye - BRK',\n",
       "       'R. Sessions - CHO', 'B. Jennings - NYK', 'M. Plumlee - NYK',\n",
       "       'D. Bembry - ATL', 'M. Scott - ATL', 'F. VanVleet - TOR',\n",
       "       'C. Randle - PHI', 'T. Splitter - PHI', 'Z. LaVine - MIN',\n",
       "       'L. Stephenson - IND', 'U. Haslem - MIA', 'J. Huestis - OKC',\n",
       "       'N. Collison - OKC', 'S. Christon - OKC', 'T. Williams - HOU',\n",
       "       'O. Casspi - MIN', 'S. Mac - WAS', 'K. Wiltjer - HOU',\n",
       "       'R. Bullock - DET', 'M. World Peace - LAL', 'C. Parsons - MEM',\n",
       "       'C. Randle - NYK', 'T. Jones - MIL', 'B. Bogdanovi - BRK',\n",
       "       'S. Kilpatrick - BRK', 'M. Delaney - ATL', 'J. Caldern - ATL',\n",
       "       'A. Poythress - PHI', 'T. Ennis - LAL', 'D. Hilliard - DET',\n",
       "       'A. Morrow - OKC', 'B. Roberts - CHO', 'C. Wood - CHO',\n",
       "       'S. Napier - POR', 'G. Vsquez - BRK', 'D. Augustin - ORL',\n",
       "       'A. Onuaku - ORL', 'I. Canaan - CHI', 'A. Toupane - NOP',\n",
       "       'L. Stephenson - NOP', 'D. Jones - CLE', 'C. Wilcox - ORL',\n",
       "       'D. Rude - ORL', 'B. Weber - GSW', \"J. O'Bryant - DEN\"],\n",
       "      dtype=object)"
      ]
     },
     "execution_count": 14,
     "metadata": {},
     "output_type": "execute_result"
    }
   ],
   "source": [
    "pd.unique(data['Blocker'])"
   ]
  },
  {
   "cell_type": "code",
   "execution_count": 15,
   "metadata": {},
   "outputs": [
    {
     "data": {
      "text/plain": [
       "array(['regular', 'playoff'], dtype=object)"
      ]
     },
     "execution_count": 15,
     "metadata": {},
     "output_type": "execute_result"
    }
   ],
   "source": [
    "pd.unique(data['GameType'])"
   ]
  },
  {
   "cell_type": "code",
   "execution_count": 16,
   "metadata": {},
   "outputs": [
    {
     "data": {
      "text/plain": [
       "array([nan, 'offensive', 'shooting', 'personal', 'def 3 sec tech',\n",
       "       'loose ball', 'offensive charge', 'shooting block',\n",
       "       'personal block', 'personal take', 'technical', 'flagrant',\n",
       "       'inbound', 'clear path', 'away from play'], dtype=object)"
      ]
     },
     "execution_count": 16,
     "metadata": {},
     "output_type": "execute_result"
    }
   ],
   "source": [
    "pd.unique(data['FoulType'])"
   ]
  },
  {
   "cell_type": "code",
   "execution_count": 17,
   "metadata": {},
   "outputs": [
    {
     "data": {
      "text/plain": [
       "array([nan, 'defensive', 'offensive'], dtype=object)"
      ]
     },
     "execution_count": 17,
     "metadata": {},
     "output_type": "execute_result"
    }
   ],
   "source": [
    "pd.unique(data['ReboundType'])"
   ]
  },
  {
   "cell_type": "code",
   "execution_count": 18,
   "metadata": {},
   "outputs": [
    {
     "data": {
      "text/plain": [
       "array([nan, 'kicked ball', 'jump ball', 'def goaltending', 'lane',\n",
       "       'delay of game', 'double lane'], dtype=object)"
      ]
     },
     "execution_count": 18,
     "metadata": {},
     "output_type": "execute_result"
    }
   ],
   "source": [
    "pd.unique(data['ViolationType'])"
   ]
  },
  {
   "cell_type": "markdown",
   "metadata": {},
   "source": [
    "Analisis - play offs 2018 - Equipo cavaliers, determinar MVP"
   ]
  },
  {
   "cell_type": "markdown",
   "metadata": {},
   "source": [
    "Buscar trabajos similares de referencia."
   ]
  },
  {
   "cell_type": "code",
   "execution_count": null,
   "metadata": {},
   "outputs": [],
   "source": []
  }
 ],
 "metadata": {
  "kernelspec": {
   "display_name": "Python 3",
   "language": "python",
   "name": "python3"
  },
  "language_info": {
   "codemirror_mode": {
    "name": "ipython",
    "version": 3
   },
   "file_extension": ".py",
   "mimetype": "text/x-python",
   "name": "python",
   "nbconvert_exporter": "python",
   "pygments_lexer": "ipython3",
   "version": "3.7.3"
  }
 },
 "nbformat": 4,
 "nbformat_minor": 4
}
